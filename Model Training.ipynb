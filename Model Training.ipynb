{
 "cells": [
  {
   "cell_type": "code",
   "execution_count": null,
   "id": "ad285b19",
   "metadata": {},
   "outputs": [],
   "source": [
    "!pip install Flask --upgrade\n"
   ]
  },
  {
   "cell_type": "code",
   "execution_count": null,
   "id": "4c0d6d53",
   "metadata": {},
   "outputs": [],
   "source": [
    "!pip install mlflow"
   ]
  },
  {
   "cell_type": "code",
   "execution_count": null,
   "id": "330b1740",
   "metadata": {},
   "outputs": [],
   "source": [
    "import flask\n",
    "import mlflow"
   ]
  },
  {
   "cell_type": "code",
   "execution_count": null,
   "id": "53ffc1f5",
   "metadata": {},
   "outputs": [],
   "source": [
    "flask.__version__"
   ]
  },
  {
   "cell_type": "code",
   "execution_count": null,
   "id": "1e965816",
   "metadata": {},
   "outputs": [],
   "source": [
    "import numpy as np"
   ]
  },
  {
   "cell_type": "code",
   "execution_count": null,
   "id": "f22c1fa1",
   "metadata": {},
   "outputs": [],
   "source": [
    "\n",
    "# Load the array from the file\n",
    "features = np.load('HOGFeatures.npy')\n",
    "\n",
    "# Print the loaded array\n",
    "print(features.shape)"
   ]
  },
  {
   "cell_type": "code",
   "execution_count": null,
   "id": "03d7d5bd",
   "metadata": {},
   "outputs": [],
   "source": [
    "# Load the array from the file\n",
    "labels_np = np.load('labels.npy')\n",
    "\n",
    "# Print the loaded array\n",
    "print(\"Labels Shape: \",labels_np.shape)"
   ]
  },
  {
   "cell_type": "code",
   "execution_count": null,
   "id": "0052e6bd",
   "metadata": {},
   "outputs": [],
   "source": [
    "from sklearn.model_selection import train_test_split\n",
    "# Split the data and labels into training and testing sets\n",
    "X_train, X_test, y_train, y_test = train_test_split(features, labels_np, test_size=0.2, random_state=42)"
   ]
  },
  {
   "cell_type": "code",
   "execution_count": null,
   "id": "df710646",
   "metadata": {},
   "outputs": [],
   "source": [
    "print(\"Train Shape: \",X_train.shape,y_train.shape)\n",
    "print(\"Test Shape: \",X_test.shape,y_test.shape)\n"
   ]
  },
  {
   "cell_type": "code",
   "execution_count": null,
   "id": "b488cca1",
   "metadata": {},
   "outputs": [],
   "source": [
    "from sklearn.svm import SVC\n",
    "from sklearn.metrics import accuracy_score, confusion_matrix, classification_report\n"
   ]
  },
  {
   "cell_type": "code",
   "execution_count": null,
   "id": "eb4a9f1e",
   "metadata": {},
   "outputs": [],
   "source": [
    "# Set the experiment name\n",
    "mlflow.set_experiment('Leaf Disease Detection')\n",
    "\n",
    "# Start a new MLflow run\n",
    "with mlflow.start_run(run_name=\"SVM\"):\n",
    "\n",
    "\n",
    "\n",
    "    # Train the model\n",
    "    clf = SVC(kernel='linear', probability=True, random_state=42)\n",
    "    # Train the classifier on the training data and labels\n",
    "    clf.fit(X_train, y_train)\n",
    "\n",
    "    # Log the model parameters and metrics to MLflow\n",
    "    mlflow.log_param('C', clf.get_params()['C'])\n",
    "    mlflow.log_metric('train_accuracy', clf.score(X_train, y_train))\n",
    "\n",
    "\n",
    "    # Evaluate the model\n",
    "    y_pred = clf.predict(X_test)\n",
    "    test_accuracy = accuracy_score(y_test, y_pred)\n",
    "\n",
    "    # Log the test accuracy to MLflow\n",
    "    mlflow.log_metric('test_accuracy', test_accuracy)\n",
    "\n",
    "    # Save the model to disk and log it to MLflow\n",
    "    mlflow.sklearn.log_model(clf, 'model')"
   ]
  },
  {
   "cell_type": "code",
   "execution_count": null,
   "id": "16541f1d",
   "metadata": {},
   "outputs": [],
   "source": []
  },
  {
   "cell_type": "code",
   "execution_count": null,
   "id": "9df6c439",
   "metadata": {},
   "outputs": [],
   "source": []
  },
  {
   "cell_type": "code",
   "execution_count": null,
   "id": "d590a7e5",
   "metadata": {},
   "outputs": [],
   "source": []
  },
  {
   "cell_type": "code",
   "execution_count": null,
   "id": "43ca823b",
   "metadata": {},
   "outputs": [],
   "source": []
  },
  {
   "cell_type": "code",
   "execution_count": null,
   "id": "73445d65",
   "metadata": {},
   "outputs": [],
   "source": []
  },
  {
   "cell_type": "code",
   "execution_count": null,
   "id": "727f4022",
   "metadata": {},
   "outputs": [],
   "source": [
    "# Load all runs from experiment\n",
    "experiment_id = mlflow.get_experiment_by_name(\"Leaf Disease Detection\").experiment_id\n",
    "all_runs = mlflow.search_runs(experiment_ids=experiment_id, order_by=[\"metrics.test_accuracy\"])\n",
    "print (all_runs)"
   ]
  },
  {
   "cell_type": "code",
   "execution_count": null,
   "id": "389b7bce",
   "metadata": {},
   "outputs": [],
   "source": [
    "import pandas as pd"
   ]
  },
  {
   "cell_type": "code",
   "execution_count": null,
   "id": "9b3e3758",
   "metadata": {},
   "outputs": [],
   "source": [
    "pd.DataFrame(all_runs)"
   ]
  },
  {
   "cell_type": "code",
   "execution_count": null,
   "id": "37f0e3fc",
   "metadata": {},
   "outputs": [],
   "source": [
    "mlflow.end_run()"
   ]
  },
  {
   "cell_type": "code",
   "execution_count": null,
   "id": "1a8d68d5",
   "metadata": {},
   "outputs": [],
   "source": []
  }
 ],
 "metadata": {
  "kernelspec": {
   "display_name": "Python 3 (ipykernel)",
   "language": "python",
   "name": "python3"
  },
  "language_info": {
   "codemirror_mode": {
    "name": "ipython",
    "version": 3
   },
   "file_extension": ".py",
   "mimetype": "text/x-python",
   "name": "python",
   "nbconvert_exporter": "python",
   "pygments_lexer": "ipython3",
   "version": "3.10.9"
  }
 },
 "nbformat": 4,
 "nbformat_minor": 5
}
