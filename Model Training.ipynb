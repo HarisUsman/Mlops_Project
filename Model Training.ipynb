{
 "cells": [
  {
   "cell_type": "code",
   "execution_count": 1,
   "id": "f483538d",
   "metadata": {
    "collapsed": true
   },
   "outputs": [
    {
     "name": "stdout",
     "output_type": "stream",
     "text": [
      "Requirement already satisfied: Flask in /home/saad/anaconda3/lib/python3.10/site-packages (2.3.2)\n",
      "Requirement already satisfied: itsdangerous>=2.1.2 in /home/saad/anaconda3/lib/python3.10/site-packages (from Flask) (2.1.2)\n",
      "Requirement already satisfied: Werkzeug>=2.3.3 in /home/saad/anaconda3/lib/python3.10/site-packages (from Flask) (2.3.4)\n",
      "Requirement already satisfied: Jinja2>=3.1.2 in /home/saad/anaconda3/lib/python3.10/site-packages (from Flask) (3.1.2)\n",
      "Requirement already satisfied: blinker>=1.6.2 in /home/saad/anaconda3/lib/python3.10/site-packages (from Flask) (1.6.2)\n",
      "Requirement already satisfied: click>=8.1.3 in /home/saad/anaconda3/lib/python3.10/site-packages (from Flask) (8.1.3)\n",
      "Requirement already satisfied: MarkupSafe>=2.0 in /home/saad/anaconda3/lib/python3.10/site-packages (from Jinja2>=3.1.2->Flask) (2.1.1)\n"
     ]
    }
   ],
   "source": [
    "!pip install Flask --upgrade\n"
   ]
  },
  {
   "cell_type": "code",
   "execution_count": 2,
   "id": "f401ed7b",
   "metadata": {
    "collapsed": true
   },
   "outputs": [
    {
     "name": "stdout",
     "output_type": "stream",
     "text": [
      "Collecting mlflow\n",
      "  Downloading mlflow-2.4.1-py3-none-any.whl (18.1 MB)\n",
      "\u001b[2K     \u001b[38;2;114;156;31m━━━━━━━━━━━━━━━━━━━━━━━━━━━━━━━━━━━━━━━━\u001b[0m \u001b[32m18.1/18.1 MB\u001b[0m \u001b[31m1.2 MB/s\u001b[0m eta \u001b[36m0:00:00\u001b[0mm eta \u001b[36m0:00:01\u001b[0m[36m0:00:01\u001b[0m\n",
      "\u001b[?25hCollecting importlib-metadata!=4.7.0,<7,>=3.7.0\n",
      "  Using cached importlib_metadata-6.6.0-py3-none-any.whl (22 kB)\n",
      "Requirement already satisfied: click<9,>=7.0 in /home/saad/anaconda3/lib/python3.10/site-packages (from mlflow) (8.1.3)\n",
      "Collecting protobuf<5,>=3.12.0\n",
      "  Downloading protobuf-4.23.2-cp37-abi3-manylinux2014_x86_64.whl (304 kB)\n",
      "\u001b[2K     \u001b[38;2;114;156;31m━━━━━━━━━━━━━━━━━━━━━━━━━━━━━━━━━━━━━━━\u001b[0m \u001b[32m304.5/304.5 kB\u001b[0m \u001b[31m1.8 MB/s\u001b[0m eta \u001b[36m0:00:00\u001b[0m MB/s\u001b[0m eta \u001b[36m0:00:01\u001b[0m:01\u001b[0m\n",
      "\u001b[?25hCollecting sqlparse<1,>=0.4.0\n",
      "  Downloading sqlparse-0.4.4-py3-none-any.whl (41 kB)\n",
      "\u001b[2K     \u001b[38;2;114;156;31m━━━━━━━━━━━━━━━━━━━━━━━━━━━━━━━━━━━━━━━━\u001b[0m \u001b[32m41.2/41.2 kB\u001b[0m \u001b[31m2.2 MB/s\u001b[0m eta \u001b[36m0:00:00\u001b[0m\n",
      "\u001b[?25hCollecting markdown<4,>=3.3\n",
      "  Using cached Markdown-3.4.3-py3-none-any.whl (93 kB)\n",
      "Collecting querystring-parser<2\n",
      "  Downloading querystring_parser-1.2.4-py2.py3-none-any.whl (7.9 kB)\n",
      "Collecting pyarrow<13,>=4.0.0\n",
      "  Downloading pyarrow-12.0.0-cp310-cp310-manylinux_2_17_x86_64.manylinux2014_x86_64.whl (38.9 MB)\n",
      "\u001b[2K     \u001b[38;2;114;156;31m━━━━━━━━━━━━━━━━━━━━━━━━━━━━━━━━━━━━━━━━\u001b[0m \u001b[32m38.9/38.9 MB\u001b[0m \u001b[31m2.3 MB/s\u001b[0m eta \u001b[36m0:00:00\u001b[0mm eta \u001b[36m0:00:01\u001b[0m[36m0:00:01\u001b[0m\n",
      "\u001b[?25hCollecting cloudpickle<3\n",
      "  Downloading cloudpickle-2.2.1-py3-none-any.whl (25 kB)\n",
      "Collecting sqlalchemy<3,>=1.4.0\n",
      "  Downloading SQLAlchemy-2.0.15-cp310-cp310-manylinux_2_17_x86_64.manylinux2014_x86_64.whl (2.7 MB)\n",
      "\u001b[2K     \u001b[38;2;114;156;31m━━━━━━━━━━━━━━━━━━━━━━━━━━━━━━━━━━━━━━━━\u001b[0m \u001b[32m2.7/2.7 MB\u001b[0m \u001b[31m1.5 MB/s\u001b[0m eta \u001b[36m0:00:00\u001b[0mm eta \u001b[36m0:00:01\u001b[0m[36m0:00:01\u001b[0m\n",
      "\u001b[?25hRequirement already satisfied: scipy<2 in /home/saad/anaconda3/lib/python3.10/site-packages (from mlflow) (1.10.1)\n",
      "Requirement already satisfied: matplotlib<4 in /home/saad/anaconda3/lib/python3.10/site-packages (from mlflow) (3.7.1)\n",
      "Collecting databricks-cli<1,>=0.8.7\n",
      "  Downloading databricks-cli-0.17.7.tar.gz (83 kB)\n",
      "\u001b[2K     \u001b[38;2;114;156;31m━━━━━━━━━━━━━━━━━━━━━━━━━━━━━━━━━━━━━━━━\u001b[0m \u001b[32m83.5/83.5 kB\u001b[0m \u001b[31m1.8 MB/s\u001b[0m eta \u001b[36m0:00:00\u001b[0m MB/s\u001b[0m eta \u001b[36m0:00:01\u001b[0m\n",
      "\u001b[?25h  Preparing metadata (setup.py) ... \u001b[?25ldone\n",
      "\u001b[?25hCollecting gunicorn<21\n",
      "  Downloading gunicorn-20.1.0-py3-none-any.whl (79 kB)\n",
      "\u001b[2K     \u001b[38;2;114;156;31m━━━━━━━━━━━━━━━━━━━━━━━━━━━━━━━━━━━━━━━━\u001b[0m \u001b[32m79.5/79.5 kB\u001b[0m \u001b[31m1.7 MB/s\u001b[0m eta \u001b[36m0:00:00\u001b[0m MB/s\u001b[0m eta \u001b[36m0:00:01\u001b[0m\n",
      "\u001b[?25hRequirement already satisfied: pytz<2024 in /home/saad/anaconda3/lib/python3.10/site-packages (from mlflow) (2022.7)\n",
      "Requirement already satisfied: packaging<24 in /home/saad/anaconda3/lib/python3.10/site-packages (from mlflow) (23.0)\n",
      "Collecting docker<7,>=4.0.0\n",
      "  Downloading docker-6.1.3-py3-none-any.whl (148 kB)\n",
      "\u001b[2K     \u001b[38;2;114;156;31m━━━━━━━━━━━━━━━━━━━━━━━━━━━━━━━━━━━━━━━\u001b[0m \u001b[32m148.1/148.1 kB\u001b[0m \u001b[31m1.9 MB/s\u001b[0m eta \u001b[36m0:00:00\u001b[0m[31m2.0 MB/s\u001b[0m eta \u001b[36m0:00:01\u001b[0m\n",
      "\u001b[?25hRequirement already satisfied: Jinja2<4,>=2.11 in /home/saad/anaconda3/lib/python3.10/site-packages (from mlflow) (3.1.2)\n",
      "Requirement already satisfied: requests<3,>=2.17.3 in /home/saad/anaconda3/lib/python3.10/site-packages (from mlflow) (2.29.0)\n",
      "Collecting alembic!=1.10.0,<2\n",
      "  Downloading alembic-1.11.1-py3-none-any.whl (224 kB)\n",
      "\u001b[2K     \u001b[38;2;114;156;31m━━━━━━━━━━━━━━━━━━━━━━━━━━━━━━━━━━━━━━━\u001b[0m \u001b[32m224.5/224.5 kB\u001b[0m \u001b[31m1.7 MB/s\u001b[0m eta \u001b[36m0:00:00\u001b[0m[31m2.1 MB/s\u001b[0m eta \u001b[36m0:00:01\u001b[0m\n",
      "\u001b[?25hCollecting entrypoints<1\n",
      "  Using cached entrypoints-0.4-py3-none-any.whl (5.3 kB)\n",
      "Requirement already satisfied: pandas<3 in /home/saad/anaconda3/lib/python3.10/site-packages (from mlflow) (2.0.1)\n",
      "Requirement already satisfied: pyyaml<7,>=5.1 in /home/saad/anaconda3/lib/python3.10/site-packages (from mlflow) (6.0)\n",
      "Collecting gitpython<4,>=2.1.0\n",
      "  Using cached GitPython-3.1.31-py3-none-any.whl (184 kB)\n",
      "Collecting scikit-learn<2\n",
      "  Downloading scikit_learn-1.2.2-cp310-cp310-manylinux_2_17_x86_64.manylinux2014_x86_64.whl (9.6 MB)\n",
      "\u001b[2K     \u001b[38;2;114;156;31m━━━━━━━━━━━━━━━━━━━━━━━━━━━━━━━━━━━━━━━━\u001b[0m \u001b[32m9.6/9.6 MB\u001b[0m \u001b[31m1.7 MB/s\u001b[0m eta \u001b[36m0:00:00\u001b[0mm eta \u001b[36m0:00:01\u001b[0m[36m0:00:01\u001b[0m\n",
      "\u001b[?25hRequirement already satisfied: numpy<2 in /home/saad/anaconda3/lib/python3.10/site-packages (from mlflow) (1.24.3)\n",
      "Requirement already satisfied: Flask<3 in /home/saad/anaconda3/lib/python3.10/site-packages (from mlflow) (2.3.2)\n",
      "Collecting Mako\n",
      "  Downloading Mako-1.2.4-py3-none-any.whl (78 kB)\n",
      "\u001b[2K     \u001b[38;2;114;156;31m━━━━━━━━━━━━━━━━━━━━━━━━━━━━━━━━━━━━━━━━\u001b[0m \u001b[32m78.7/78.7 kB\u001b[0m \u001b[31m1.7 MB/s\u001b[0m eta \u001b[36m0:00:00\u001b[0m MB/s\u001b[0m eta \u001b[36m0:00:01\u001b[0m\n",
      "\u001b[?25hRequirement already satisfied: typing-extensions>=4 in /home/saad/anaconda3/lib/python3.10/site-packages (from alembic!=1.10.0,<2->mlflow) (4.5.0)\n",
      "Requirement already satisfied: pyjwt>=1.7.0 in /home/saad/anaconda3/lib/python3.10/site-packages (from databricks-cli<1,>=0.8.7->mlflow) (2.4.0)\n",
      "Collecting oauthlib>=3.1.0\n",
      "  Using cached oauthlib-3.2.2-py3-none-any.whl (151 kB)\n",
      "Collecting tabulate>=0.7.7\n",
      "  Downloading tabulate-0.9.0-py3-none-any.whl (35 kB)\n",
      "Requirement already satisfied: six>=1.10.0 in /home/saad/anaconda3/lib/python3.10/site-packages (from databricks-cli<1,>=0.8.7->mlflow) (1.16.0)\n",
      "Requirement already satisfied: urllib3<2.0.0,>=1.26.7 in /home/saad/anaconda3/lib/python3.10/site-packages (from databricks-cli<1,>=0.8.7->mlflow) (1.26.15)\n",
      "Requirement already satisfied: websocket-client>=0.32.0 in /home/saad/anaconda3/lib/python3.10/site-packages (from docker<7,>=4.0.0->mlflow) (1.5.1)\n",
      "Requirement already satisfied: blinker>=1.6.2 in /home/saad/anaconda3/lib/python3.10/site-packages (from Flask<3->mlflow) (1.6.2)\n",
      "Requirement already satisfied: Werkzeug>=2.3.3 in /home/saad/anaconda3/lib/python3.10/site-packages (from Flask<3->mlflow) (2.3.4)\n",
      "Requirement already satisfied: itsdangerous>=2.1.2 in /home/saad/anaconda3/lib/python3.10/site-packages (from Flask<3->mlflow) (2.1.2)\n",
      "Collecting gitdb<5,>=4.0.1\n",
      "  Using cached gitdb-4.0.10-py3-none-any.whl (62 kB)\n",
      "Requirement already satisfied: setuptools>=3.0 in /home/saad/anaconda3/lib/python3.10/site-packages (from gunicorn<21->mlflow) (65.6.3)\n",
      "Collecting zipp>=0.5\n",
      "  Using cached zipp-3.15.0-py3-none-any.whl (6.8 kB)\n",
      "Requirement already satisfied: MarkupSafe>=2.0 in /home/saad/anaconda3/lib/python3.10/site-packages (from Jinja2<4,>=2.11->mlflow) (2.1.1)\n",
      "Requirement already satisfied: pillow>=6.2.0 in /home/saad/anaconda3/lib/python3.10/site-packages (from matplotlib<4->mlflow) (9.4.0)\n",
      "Requirement already satisfied: kiwisolver>=1.0.1 in /home/saad/anaconda3/lib/python3.10/site-packages (from matplotlib<4->mlflow) (1.4.4)\n",
      "Requirement already satisfied: fonttools>=4.22.0 in /home/saad/anaconda3/lib/python3.10/site-packages (from matplotlib<4->mlflow) (4.39.4)\n",
      "Requirement already satisfied: cycler>=0.10 in /home/saad/anaconda3/lib/python3.10/site-packages (from matplotlib<4->mlflow) (0.11.0)\n",
      "Requirement already satisfied: pyparsing>=2.3.1 in /home/saad/anaconda3/lib/python3.10/site-packages (from matplotlib<4->mlflow) (3.0.9)\n",
      "Requirement already satisfied: python-dateutil>=2.7 in /home/saad/anaconda3/lib/python3.10/site-packages (from matplotlib<4->mlflow) (2.8.2)\n",
      "Requirement already satisfied: contourpy>=1.0.1 in /home/saad/anaconda3/lib/python3.10/site-packages (from matplotlib<4->mlflow) (1.0.7)\n",
      "Requirement already satisfied: tzdata>=2022.1 in /home/saad/anaconda3/lib/python3.10/site-packages (from pandas<3->mlflow) (2023.3)\n",
      "Requirement already satisfied: certifi>=2017.4.17 in /home/saad/anaconda3/lib/python3.10/site-packages (from requests<3,>=2.17.3->mlflow) (2022.12.7)\n",
      "Requirement already satisfied: idna<4,>=2.5 in /home/saad/anaconda3/lib/python3.10/site-packages (from requests<3,>=2.17.3->mlflow) (3.4)\n",
      "Requirement already satisfied: charset-normalizer<4,>=2 in /home/saad/anaconda3/lib/python3.10/site-packages (from requests<3,>=2.17.3->mlflow) (2.0.4)\n",
      "Collecting threadpoolctl>=2.0.0\n",
      "  Using cached threadpoolctl-3.1.0-py3-none-any.whl (14 kB)\n",
      "Collecting joblib>=1.1.1\n",
      "  Using cached joblib-1.2.0-py3-none-any.whl (297 kB)\n"
     ]
    },
    {
     "name": "stdout",
     "output_type": "stream",
     "text": [
      "Collecting greenlet!=0.4.17\n",
      "  Downloading greenlet-2.0.2-cp310-cp310-manylinux_2_17_x86_64.manylinux2014_x86_64.whl (613 kB)\n",
      "\u001b[2K     \u001b[38;2;114;156;31m━━━━━━━━━━━━━━━━━━━━━━━━━━━━━━━━━━━━━━━\u001b[0m \u001b[32m613.7/613.7 kB\u001b[0m \u001b[31m1.7 MB/s\u001b[0m eta \u001b[36m0:00:00\u001b[0m MB/s\u001b[0m eta \u001b[36m0:00:01\u001b[0m:01\u001b[0m\n",
      "\u001b[?25hCollecting smmap<6,>=3.0.1\n",
      "  Using cached smmap-5.0.0-py3-none-any.whl (24 kB)\n",
      "Building wheels for collected packages: databricks-cli\n",
      "  Building wheel for databricks-cli (setup.py) ... \u001b[?25ldone\n",
      "\u001b[?25h  Created wheel for databricks-cli: filename=databricks_cli-0.17.7-py3-none-any.whl size=143861 sha256=c6f97cf7a7a4343c9f00f70520bbbdf784a5ea94d766399a74536b69ad5f00f7\n",
      "  Stored in directory: /home/saad/.cache/pip/wheels/6c/23/d3/99c68cf99d98482e6a6299b034f86e6662670b32084b4b2186\n",
      "Successfully built databricks-cli\n",
      "Installing collected packages: zipp, threadpoolctl, tabulate, sqlparse, smmap, querystring-parser, pyarrow, protobuf, oauthlib, markdown, Mako, joblib, gunicorn, greenlet, entrypoints, cloudpickle, sqlalchemy, scikit-learn, importlib-metadata, gitdb, docker, databricks-cli, gitpython, alembic, mlflow\n",
      "Successfully installed Mako-1.2.4 alembic-1.11.1 cloudpickle-2.2.1 databricks-cli-0.17.7 docker-6.1.3 entrypoints-0.4 gitdb-4.0.10 gitpython-3.1.31 greenlet-2.0.2 gunicorn-20.1.0 importlib-metadata-6.6.0 joblib-1.2.0 markdown-3.4.3 mlflow-2.4.1 oauthlib-3.2.2 protobuf-4.23.2 pyarrow-12.0.0 querystring-parser-1.2.4 scikit-learn-1.2.2 smmap-5.0.0 sqlalchemy-2.0.15 sqlparse-0.4.4 tabulate-0.9.0 threadpoolctl-3.1.0 zipp-3.15.0\n"
     ]
    }
   ],
   "source": [
    "!pip install mlflow"
   ]
  },
  {
   "cell_type": "code",
   "execution_count": 3,
   "id": "30e6e3cb",
   "metadata": {},
   "outputs": [],
   "source": [
    "import flask\n",
    "import mlflow"
   ]
  },
  {
   "cell_type": "code",
   "execution_count": 4,
   "id": "f903fe74",
   "metadata": {},
   "outputs": [
    {
     "data": {
      "text/plain": [
       "'2.3.2'"
      ]
     },
     "execution_count": 4,
     "metadata": {},
     "output_type": "execute_result"
    }
   ],
   "source": [
    "flask.__version__"
   ]
  },
  {
   "cell_type": "code",
   "execution_count": 6,
   "id": "a727d4ba",
   "metadata": {},
   "outputs": [],
   "source": [
    "import numpy as np"
   ]
  },
  {
   "cell_type": "code",
   "execution_count": 7,
   "id": "7f706e2f",
   "metadata": {},
   "outputs": [
    {
     "name": "stdout",
     "output_type": "stream",
     "text": [
      "(3000, 34596)\n"
     ]
    }
   ],
   "source": [
    "\n",
    "# Load the array from the file\n",
    "features = np.load('HOGFeatures.npy')\n",
    "\n",
    "# Print the loaded array\n",
    "print(features.shape)"
   ]
  },
  {
   "cell_type": "code",
   "execution_count": 8,
   "id": "d8c690b1",
   "metadata": {},
   "outputs": [
    {
     "name": "stdout",
     "output_type": "stream",
     "text": [
      "Labels Shape:  (3000,)\n"
     ]
    }
   ],
   "source": [
    "# Load the array from the file\n",
    "labels_np = np.load('labels.npy')\n",
    "\n",
    "# Print the loaded array\n",
    "print(\"Labels Shape: \",labels_np.shape)"
   ]
  },
  {
   "cell_type": "code",
   "execution_count": 10,
   "id": "15ae5fa2",
   "metadata": {},
   "outputs": [],
   "source": [
    "from sklearn.model_selection import train_test_split\n",
    "# Split the data and labels into training and testing sets\n",
    "X_train, X_test, y_train, y_test = train_test_split(features, labels_np, test_size=0.2, random_state=42)"
   ]
  },
  {
   "cell_type": "code",
   "execution_count": 12,
   "id": "e8957531",
   "metadata": {},
   "outputs": [
    {
     "name": "stdout",
     "output_type": "stream",
     "text": [
      "Train Shape:  (2400, 34596) (2400,)\n",
      "Test Shape:  (600, 34596) (600,)\n"
     ]
    }
   ],
   "source": [
    "print(\"Train Shape: \",X_train.shape,y_train.shape)\n",
    "print(\"Test Shape: \",X_test.shape,y_test.shape)\n"
   ]
  },
  {
   "cell_type": "code",
   "execution_count": 13,
   "id": "40401acd",
   "metadata": {},
   "outputs": [],
   "source": [
    "from sklearn.svm import SVC\n"
   ]
  },
  {
   "cell_type": "code",
   "execution_count": null,
   "id": "ad8cd42e",
   "metadata": {},
   "outputs": [],
   "source": [
    "# Set the experiment name\n",
    "mlflow.set_experiment('Leaf Disease Detection')\n",
    "\n",
    "# Start a new MLflow run\n",
    "with mlflow.start_run(run_name=\"SVM\"):\n",
    "\n",
    "\n",
    "\n",
    "    # Train the model\n",
    "    clf = SVC(kernel='linear', probability=True, random_state=42)\n",
    "    # Train the classifier on the training data and labels\n",
    "    clf.fit(X_train, y_train)\n",
    "\n",
    "    # Log the model parameters and metrics to MLflow\n",
    "    mlflow.log_param('C', clf.get_params()['C'])\n",
    "    mlflow.log_metric('train_accuracy', clf.score(X_train, y_train))\n",
    "\n",
    "\n",
    "    # Evaluate the model\n",
    "    y_pred = clf.predict(X_test)\n",
    "    test_accuracy = accuracy_score(y_test, y_pred)\n",
    "\n",
    "    # Log the test accuracy to MLflow\n",
    "    mlflow.log_metric('test_accuracy', test_accuracy)\n",
    "\n",
    "    # Save the model to disk and log it to MLflow\n",
    "    mlflow.sklearn.log_model(lr, 'model')"
   ]
  },
  {
   "cell_type": "code",
   "execution_count": null,
   "id": "7e58f298",
   "metadata": {},
   "outputs": [],
   "source": []
  }
 ],
 "metadata": {
  "kernelspec": {
   "display_name": "Python 3 (ipykernel)",
   "language": "python",
   "name": "python3"
  },
  "language_info": {
   "codemirror_mode": {
    "name": "ipython",
    "version": 3
   },
   "file_extension": ".py",
   "mimetype": "text/x-python",
   "name": "python",
   "nbconvert_exporter": "python",
   "pygments_lexer": "ipython3",
   "version": "3.10.9"
  }
 },
 "nbformat": 4,
 "nbformat_minor": 5
}
