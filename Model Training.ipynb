{
 "cells": [
  {
   "cell_type": "code",
   "execution_count": null,
   "id": "2a094924",
   "metadata": {},
   "outputs": [],
   "source": [
    "!pip install Flask --upgrade\n"
   ]
  },
  {
   "cell_type": "code",
   "execution_count": null,
   "id": "62dc1ea1",
   "metadata": {},
   "outputs": [],
   "source": [
    "!pip install mlflow"
   ]
  },
  {
   "cell_type": "code",
   "execution_count": null,
   "id": "7bb1fbeb",
   "metadata": {},
   "outputs": [],
   "source": [
    "import flask\n",
    "import mlflow"
   ]
  },
  {
   "cell_type": "code",
   "execution_count": null,
   "id": "c02a090f",
   "metadata": {},
   "outputs": [],
   "source": [
    "flask.__version__"
   ]
  },
  {
   "cell_type": "code",
   "execution_count": null,
   "id": "324352b3",
   "metadata": {},
   "outputs": [],
   "source": [
    "import numpy as np"
   ]
  },
  {
   "cell_type": "code",
   "execution_count": null,
   "id": "5233d2f7",
   "metadata": {},
   "outputs": [],
   "source": [
    "\n",
    "# Load the array from the file\n",
    "features = np.load('HOGFeatures.npy')\n",
    "\n",
    "# Print the loaded array\n",
    "print(features.shape)"
   ]
  },
  {
   "cell_type": "code",
   "execution_count": null,
   "id": "c595360d",
   "metadata": {},
   "outputs": [],
   "source": [
    "# Load the array from the file\n",
    "labels_np = np.load('labels.npy')\n",
    "\n",
    "# Print the loaded array\n",
    "print(\"Labels Shape: \",labels_np.shape)"
   ]
  },
  {
   "cell_type": "code",
   "execution_count": null,
   "id": "8a5386a2",
   "metadata": {},
   "outputs": [],
   "source": [
    "from sklearn.model_selection import train_test_split\n",
    "# Split the data and labels into training and testing sets\n",
    "X_train, X_test, y_train, y_test = train_test_split(features, labels_np, test_size=0.2, random_state=42)"
   ]
  },
  {
   "cell_type": "code",
   "execution_count": null,
   "id": "0fc3ae0f",
   "metadata": {},
   "outputs": [],
   "source": [
    "print(\"Train Shape: \",X_train.shape,y_train.shape)\n",
    "print(\"Test Shape: \",X_test.shape,y_test.shape)\n"
   ]
  },
  {
   "cell_type": "code",
   "execution_count": null,
   "id": "334fd2c1",
   "metadata": {},
   "outputs": [],
   "source": [
    "from sklearn.svm import SVC\n",
    "from sklearn.metrics import accuracy_score, confusion_matrix, classification_report\n"
   ]
  },
  {
   "cell_type": "code",
   "execution_count": null,
   "id": "9dd8f87f",
   "metadata": {},
   "outputs": [],
   "source": [
    "# Set the experiment name\n",
    "mlflow.set_experiment('Leaf Disease Detection')\n",
    "\n",
    "# Start a new MLflow run\n",
    "with mlflow.start_run(run_name=\"SVM\"):\n",
    "\n",
    "\n",
    "\n",
    "    # Train the model\n",
    "    clf = SVC(kernel='linear', probability=True, random_state=42)\n",
    "    # Train the classifier on the training data and labels\n",
    "    clf.fit(X_train, y_train)\n",
    "\n",
    "    # Log the model parameters and metrics to MLflow\n",
    "    mlflow.log_param('C', clf.get_params()['C'])\n",
    "    score =clf.score(X_train, y_train)\n",
    "    mlflow.log_metric('train_accuracy', score)\n",
    "\n",
    "\n",
    "    # Evaluate the model\n",
    "    y_pred = clf.predict(X_test)\n",
    "    test_accuracy = accuracy_score(y_test, y_pred)\n",
    "\n",
    "    # Log the test accuracy to MLflow\n",
    "    mlflow.log_metric('test_accuracy', test_accuracy)\n",
    "\n",
    "    # Save the model to disk and log it to MLflow\n",
    "    mlflow.sklearn.log_model(clf, 'model')"
   ]
  },
  {
   "cell_type": "code",
   "execution_count": null,
   "id": "0ae7f454",
   "metadata": {},
   "outputs": [],
   "source": []
  },
  {
   "cell_type": "code",
   "execution_count": null,
   "id": "77c3d48e",
   "metadata": {},
   "outputs": [],
   "source": []
  },
  {
   "cell_type": "code",
   "execution_count": null,
   "id": "97f299ba",
   "metadata": {},
   "outputs": [],
   "source": []
  },
  {
   "cell_type": "code",
   "execution_count": null,
   "id": "9a164c46",
   "metadata": {},
   "outputs": [],
   "source": []
  },
  {
   "cell_type": "code",
   "execution_count": null,
   "id": "5901cab3",
   "metadata": {},
   "outputs": [],
   "source": []
  },
  {
   "cell_type": "code",
   "execution_count": null,
   "id": "bbf3d602",
   "metadata": {},
   "outputs": [],
   "source": [
    "# Load all runs from experiment\n",
    "experiment_id = mlflow.get_experiment_by_name(\"Leaf Disease Detection\").experiment_id\n",
    "all_runs = mlflow.search_runs(experiment_ids=experiment_id, order_by=[\"metrics.test_accuracy\"])\n",
    "print (all_runs)"
   ]
  },
  {
   "cell_type": "code",
   "execution_count": null,
   "id": "9c2835d1",
   "metadata": {},
   "outputs": [],
   "source": [
    "import pandas as pd"
   ]
  },
  {
   "cell_type": "code",
   "execution_count": null,
   "id": "76cd2238",
   "metadata": {},
   "outputs": [],
   "source": [
    "pd.DataFrame(all_runs)"
   ]
  },
  {
   "cell_type": "code",
   "execution_count": null,
   "id": "f7eb1932",
   "metadata": {},
   "outputs": [],
   "source": [
    "mlflow.end_run()"
   ]
  },
  {
   "cell_type": "code",
   "execution_count": null,
   "id": "d5cf81fa",
   "metadata": {},
   "outputs": [],
   "source": []
  },
  {
   "cell_type": "code",
   "execution_count": null,
   "id": "c4341a4b",
   "metadata": {},
   "outputs": [],
   "source": []
  },
  {
   "cell_type": "code",
   "execution_count": null,
   "id": "99dc38df",
   "metadata": {},
   "outputs": [],
   "source": []
  },
  {
   "cell_type": "code",
   "execution_count": null,
   "id": "0ef7d9ff",
   "metadata": {},
   "outputs": [],
   "source": []
  },
  {
   "cell_type": "code",
   "execution_count": null,
   "id": "3b49f812",
   "metadata": {},
   "outputs": [],
   "source": []
  },
  {
   "cell_type": "code",
   "execution_count": null,
   "id": "30688852",
   "metadata": {},
   "outputs": [],
   "source": []
  },
  {
   "cell_type": "code",
   "execution_count": null,
   "id": "85860f54",
   "metadata": {},
   "outputs": [],
   "source": []
  }
 ],
 "metadata": {
  "kernelspec": {
   "display_name": "Python 3 (ipykernel)",
   "language": "python",
   "name": "python3"
  },
  "language_info": {
   "codemirror_mode": {
    "name": "ipython",
    "version": 3
   },
   "file_extension": ".py",
   "mimetype": "text/x-python",
   "name": "python",
   "nbconvert_exporter": "python",
   "pygments_lexer": "ipython3",
   "version": "3.10.9"
  }
 },
 "nbformat": 4,
 "nbformat_minor": 5
}
